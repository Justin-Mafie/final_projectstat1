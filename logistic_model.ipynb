{
 "cells": [
  {
   "cell_type": "code",
   "execution_count": 1,
   "id": "initial_id",
   "metadata": {
    "collapsed": true,
    "ExecuteTime": {
     "end_time": "2023-12-07T17:34:50.622665Z",
     "start_time": "2023-12-07T17:34:25.713927Z"
    }
   },
   "outputs": [
    {
     "name": "stdout",
     "output_type": "stream",
     "text": [
      "Logistic Regression Model for Cases:\n",
      "Mean Absolute Error: 0.26277372262773724\n",
      "Mean Squared Error: 0.26277372262773724\n",
      "Mean Absolute Percentage Error (MAPE): inf%\n",
      "\n",
      "Logistic Regression Model for Deaths:\n",
      "Mean Absolute Error: 0.28832116788321166\n",
      "Mean Squared Error: 0.28832116788321166\n",
      "Mean Absolute Percentage Error (MAPE): inf%\n"
     ]
    }
   ],
   "source": [
    "import pandas as pd\n",
    "from sklearn.model_selection import train_test_split\n",
    "from sklearn.linear_model import LogisticRegression\n",
    "from sklearn.metrics import mean_absolute_error, mean_squared_error\n",
    "from sklearn.preprocessing import LabelEncoder\n",
    "\n",
    "# Load COVID-19 data from the owid-covid-data.csv file\n",
    "data_url = 'https://raw.githubusercontent.com/owid/covid-19-data/master/public/data/owid-covid-data.csv'\n",
    "df = pd.read_csv(data_url)\n",
    "\n",
    "# Select relevant features and target variables for binary classification\n",
    "features = ['total_cases_per_million', 'new_cases_per_million', 'total_deaths_per_million', 'new_deaths_per_million']\n",
    "target_cases = 'new_cases_smoothed_per_million'\n",
    "target_deaths = 'new_deaths_smoothed_per_million'\n",
    "\n",
    "# Filter the DataFrame to keep only the relevant columns and rows where 'location' is 'Canada'\n",
    "df = df[df['location'] == 'Canada'][['location'] + features + [target_cases, target_deaths]].dropna()\n",
    "\n",
    "# Encode categorical variable 'location' using Label Encoding\n",
    "label_encoder = LabelEncoder()\n",
    "df['location'] = label_encoder.fit_transform(df['location'])\n",
    "\n",
    "# Create binary target variables for cases and deaths (1 if increase, 0 if not increase)\n",
    "df['increase_cases'] = (df[target_cases].diff() > 0).astype(int)\n",
    "df['increase_deaths'] = (df[target_deaths].diff() > 0).astype(int)\n",
    "\n",
    "# Data Preprocessing for Cases\n",
    "X_cases = df[features + ['location']]  # Features for cases\n",
    "y_cases = df['increase_cases']          # Binary target variable for cases\n",
    "\n",
    "# Data Preprocessing for Deaths\n",
    "X_deaths = df[features + ['location']]  # Features for deaths\n",
    "y_deaths = df['increase_deaths']        # Binary target variable for deaths\n",
    "\n",
    "# Split the data into training and testing sets for both cases and deaths\n",
    "X_cases_train, X_cases_test, y_cases_train, y_cases_test = train_test_split(X_cases, y_cases, test_size=0.2, random_state=42)\n",
    "X_deaths_train, X_deaths_test, y_deaths_train, y_deaths_test = train_test_split(X_deaths, y_deaths, test_size=0.2, random_state=42)\n",
    "\n",
    "# Logistic Regression Model for Cases\n",
    "model_cases = LogisticRegression()\n",
    "model_cases.fit(X_cases_train, y_cases_train)  # Train the model for cases\n",
    "y_cases_pred = model_cases.predict(X_cases_test)  # Make predictions for cases\n",
    "\n",
    "# Logistic Regression Model for Deaths\n",
    "model_deaths = LogisticRegression()\n",
    "model_deaths.fit(X_deaths_train, y_deaths_train)  # Train the model for deaths\n",
    "y_deaths_pred = model_deaths.predict(X_deaths_test)  # Make predictions for deaths\n",
    "\n",
    "# Calculate MAE, MSE, MAPE, and print for cases\n",
    "mae_cases = mean_absolute_error(y_cases_test, y_cases_pred)\n",
    "mse_cases = mean_squared_error(y_cases_test, y_cases_pred)\n",
    "mape_cases = (100 * (abs(y_cases_test - y_cases_pred) / y_cases_test)).mean()\n",
    "\n",
    "# Calculate MAE, MSE, MAPE, and print for deaths\n",
    "mae_deaths = mean_absolute_error(y_deaths_test, y_deaths_pred)\n",
    "mse_deaths = mean_squared_error(y_deaths_test, y_deaths_pred)\n",
    "mape_deaths = (100 * (abs(y_deaths_test - y_deaths_pred) / y_deaths_test)).mean()\n",
    "\n",
    "# Print results for the models\n",
    "print(\"Logistic Regression Model for Cases:\")\n",
    "print(f\"Mean Absolute Error: {mae_cases}\")\n",
    "print(f\"Mean Squared Error: {mse_cases}\")\n",
    "print(f\"Mean Absolute Percentage Error (MAPE): {mape_cases}%\")\n",
    "\n",
    "print(\"\\nLogistic Regression Model for Deaths:\")\n",
    "print(f\"Mean Absolute Error: {mae_deaths}\")\n",
    "print(f\"Mean Squared Error: {mse_deaths}\")\n",
    "print(f\"Mean Absolute Percentage Error (MAPE): {mape_deaths}%\")"
   ]
  },
  {
   "cell_type": "code",
   "execution_count": null,
   "outputs": [],
   "source": [],
   "metadata": {
    "collapsed": false
   },
   "id": "a86363f0430ee39c"
  }
 ],
 "metadata": {
  "kernelspec": {
   "display_name": "Python 3",
   "language": "python",
   "name": "python3"
  },
  "language_info": {
   "codemirror_mode": {
    "name": "ipython",
    "version": 2
   },
   "file_extension": ".py",
   "mimetype": "text/x-python",
   "name": "python",
   "nbconvert_exporter": "python",
   "pygments_lexer": "ipython2",
   "version": "2.7.6"
  }
 },
 "nbformat": 4,
 "nbformat_minor": 5
}
