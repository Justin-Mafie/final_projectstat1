{
 "cells": [
  {
   "cell_type": "code",
   "execution_count": 1,
   "id": "initial_id",
   "metadata": {
    "collapsed": true,
    "ExecuteTime": {
     "end_time": "2023-12-07T17:34:40.326397Z",
     "start_time": "2023-12-07T17:34:19.715110Z"
    }
   },
   "outputs": [
    {
     "name": "stdout",
     "output_type": "stream",
     "text": [
      "Accuracy: 1.00\n",
      "Classification Report:\n",
      "               precision    recall  f1-score   support\n",
      "\n",
      "       False       1.00      1.00      1.00       115\n",
      "        True       1.00      1.00      1.00        39\n",
      "\n",
      "    accuracy                           1.00       154\n",
      "   macro avg       1.00      1.00      1.00       154\n",
      "weighted avg       1.00      1.00      1.00       154\n",
      "\n",
      "Confusion Matrix:\n",
      " [[115   0]\n",
      " [  0  39]]\n"
     ]
    }
   ],
   "source": [
    "import pandas as pd\n",
    "from sklearn.model_selection import train_test_split\n",
    "from sklearn.ensemble import RandomForestClassifier\n",
    "from sklearn.metrics import accuracy_score, classification_report, confusion_matrix\n",
    "\n",
    "# Load the data\n",
    "data_url = \"https://covid.ourworldindata.org/data/owid-covid-data.csv\"\n",
    "covid_data = pd.read_csv(data_url)\n",
    "\n",
    "# Filter data for Canada\n",
    "canada_data = covid_data[covid_data['location'] == 'Canada']\n",
    "\n",
    "# Feature selection\n",
    "features = ['total_cases', 'new_cases', 'total_deaths', 'new_deaths', 'total_vaccinations', 'population']\n",
    "target = 'new_deaths'\n",
    "\n",
    "# Drop rows with missing values in the selected features\n",
    "canada_data = canada_data.dropna(subset=features + [target])\n",
    "\n",
    "# Define a threshold for classifying deaths (you can adjust this based on your needs)\n",
    "death_threshold = 50\n",
    "canada_data['above_threshold'] = canada_data[target] > death_threshold\n",
    "\n",
    "# Split the data into training and testing sets\n",
    "X_train, X_test, y_train, y_test = train_test_split(canada_data[features], canada_data['above_threshold'], test_size=0.2, random_state=42)\n",
    "\n",
    "# Train a random forest classifier\n",
    "model = RandomForestClassifier(random_state=42)\n",
    "model.fit(X_train, y_train)\n",
    "\n",
    "# Make predictions on the test set\n",
    "predictions = model.predict(X_test)\n",
    "\n",
    "# Evaluate the model\n",
    "accuracy = accuracy_score(y_test, predictions)\n",
    "report = classification_report(y_test, predictions)\n",
    "conf_matrix = confusion_matrix(y_test, predictions)\n",
    "\n",
    "print(f\"Accuracy: {accuracy:.2f}\")\n",
    "print(\"Classification Report:\\n\", report)\n",
    "print(\"Confusion Matrix:\\n\", conf_matrix)"
   ]
  },
  {
   "cell_type": "code",
   "execution_count": null,
   "outputs": [],
   "source": [],
   "metadata": {
    "collapsed": false
   },
   "id": "1d92b7dc32fa1c5c"
  }
 ],
 "metadata": {
  "kernelspec": {
   "display_name": "Python 3",
   "language": "python",
   "name": "python3"
  },
  "language_info": {
   "codemirror_mode": {
    "name": "ipython",
    "version": 2
   },
   "file_extension": ".py",
   "mimetype": "text/x-python",
   "name": "python",
   "nbconvert_exporter": "python",
   "pygments_lexer": "ipython2",
   "version": "2.7.6"
  }
 },
 "nbformat": 4,
 "nbformat_minor": 5
}
